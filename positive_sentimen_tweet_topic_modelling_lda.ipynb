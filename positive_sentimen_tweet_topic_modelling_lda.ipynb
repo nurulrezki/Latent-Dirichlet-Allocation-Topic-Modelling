{
 "cells": [
  {
   "cell_type": "code",
   "execution_count": null,
   "metadata": {},
   "outputs": [],
   "source": [
    "from importlib.metadata import version\n",
    "version('gensim')"
   ]
  },
  {
   "cell_type": "markdown",
   "metadata": {},
   "source": [
    "### Extract and Preprocess Text Data"
   ]
  },
  {
   "cell_type": "code",
   "execution_count": 1,
   "metadata": {},
   "outputs": [],
   "source": [
    "import nltk\n",
    "import re\n",
    "import numpy as np\n",
    "import pandas as pd\n",
    "from pprint import pprint\n",
    "# Gensim\n",
    "import gensim\n",
    "import gensim.corpora as corpora\n",
    "from gensim.utils import simple_preprocess\n",
    "from gensim.models import CoherenceModel\n",
    "# spacy for lemmatization\n",
    "import spacy\n",
    "# Plotting tools\n",
    "import pyLDAvis\n",
    "import pyLDAvis.gensim # don't skip this\n",
    "import matplotlib.pyplot as plt\n",
    "%matplotlib inline\n",
    "\n",
    "# Enable logging for gensim - optional\n",
    "import logging\n",
    "logging.basicConfig(format='%(asctime)s : %(levelname)s : %(message)s', level=logging.ERROR)\n",
    "\n",
    "import warnings\n",
    "warnings.filterwarnings(\"ignore\",category=DeprecationWarning)"
   ]
  },
  {
   "cell_type": "code",
   "execution_count": 2,
   "metadata": {},
   "outputs": [
    {
     "name": "stderr",
     "output_type": "stream",
     "text": [
      "[nltk_data] Downloading package stopwords to\n",
      "[nltk_data]     C:\\Users\\HP\\AppData\\Roaming\\nltk_data...\n",
      "[nltk_data]   Package stopwords is already up-to-date!\n"
     ]
    }
   ],
   "source": [
    "import re\n",
    "import nltk\n",
    "from nltk.corpus import stopwords\n",
    "nltk.download(\"stopwords\")\n",
    "from Sastrawi.Stemmer.StemmerFactory import StemmerFactory"
   ]
  },
  {
   "cell_type": "code",
   "execution_count": 3,
   "metadata": {},
   "outputs": [
    {
     "name": "stdout",
     "output_type": "stream",
     "text": [
      "   Unnamed: 0                                              tweet    label\n",
      "0           0  [asli, kampus, merdeka, seru, seru, ikut, satu...  positif\n",
      "1           1  [merdeka, ajar, kampus, merdeka, ubah, ubah, h...  positif\n",
      "2           2  [aduh, enak, banget, mahasiswa, kampus, merdek...  positif\n",
      "3           3  [syukur, reformasi, birokrasi, sistem, akredit...  positif\n",
      "4           4  [correct, me, if, am, wrong, tugas, atur, ada,...  positif\n",
      "5           5  [senang, kampus, terap, bijak, kampus, merdeka...  positif\n",
      "6           6  [heran, pikir, tuju, nadiem, menteri, didik, l...  positif\n",
      "7           7  [nadiem, gojek, penting, gojek, pikir, didik, ...  positif\n",
      "8           8  [pakai, kampus, merdeka, dobrak, moga, hasil, ...  positif\n",
      "9           9  [mantap, banget, usaha, buka, magang, kolabora...  positif\n",
      "\n",
      "                                               tweet    label\n",
      "0   asli kampus merdeka seru seru sayang semester...  positif\n",
      "1   merdeka ajar kampus merdeka ubah ubah harap k...  positif\n",
      "2   aduh enak banget mahasiswa kampus merdeka tak...  positif\n",
      "3   syukur reformasi birokrasi sistem akreditasi ...  positif\n",
      "4   correct me if am wrong tugas atur urus sistem...  positif\n",
      "5   senang kampus terap bijak kampus merdeka tawa...  positif\n",
      "6   heran pikir tuju nadiem menteri didik lihat p...  positif\n",
      "7   nadiem gojek gojek pikir didik negeri gebrak ...  positif\n",
      "8   pakai kampus merdeka dobrak moga hasil kemend...  positif\n",
      "9   mantap banget usaha buka magang kolaborasi ka...  positif\n",
      "\n"
     ]
    }
   ],
   "source": [
    "# Import Dataset\n",
    "df = pd.read_csv(\"data-bersihLDA-positif.csv\")\n",
    "stop=set(stopwords.words(\"indonesian\"))\n",
    "stop_bow = set(stopwords.words(\"indonesian\"))\n",
    "stop_bow.discard(\"tidak\")\n",
    "factory = StemmerFactory()\n",
    "stemmer = factory.create_stemmer()\n",
    "\n",
    "text=df[\"tweet\"]\n",
    "cleaned_text_bow=[]\n",
    "cleaned_text=[]\n",
    "for line in text:\n",
    "    tags = re.compile(\"^@[a-zA-Z_]*\")\n",
    "    line = re.sub(tags,\" \",line)\n",
    "    hashtags = re.compile(\"#|\\*\")\n",
    "    extraCharacters = re.compile(\"[^a-zA-Z]\")\n",
    "    line = re.sub(extraCharacters,\" \",line)\n",
    "\n",
    "    filtered_words=[]\n",
    "    filtered_words_bow=\"\"\n",
    "    for word in line.split():\n",
    "        word=word.lower()\n",
    "        if(word not in stop):\n",
    "            word = stemmer.stem(word)\n",
    "            filtered_words.append(word)\n",
    "        if(word not in stop_bow):\n",
    "            word = stemmer.stem(word)\n",
    "            filtered_words_bow+=\" \"+word\n",
    "    cleaned_text.append(filtered_words)\n",
    "    cleaned_text_bow.append(filtered_words_bow)\n",
    "            \n",
    "data_bow = pd.DataFrame(data=cleaned_text_bow,columns=[\"tweet\"])\n",
    "data_bow[\"label\"] = df[\"label\"]\n",
    "df[\"tweet\"]=cleaned_text\n",
    "print(df.head(10))\n",
    "print()\n",
    "print(data_bow.head(10))\n",
    "print()\n"
   ]
  },
  {
   "cell_type": "code",
   "execution_count": 4,
   "metadata": {},
   "outputs": [
    {
     "name": "stdout",
     "output_type": "stream",
     "text": [
      "[[(0, 1), (1, 1), (2, 1), (3, 1), (4, 1), (5, 1), (6, 1), (7, 1), (8, 1), (9, 1), (10, 1), (11, 1), (12, 3), (13, 2)]]\n"
     ]
    }
   ],
   "source": [
    "# Create Dictionary\n",
    "id2word = corpora.Dictionary(df[\"tweet\"])\n",
    "\n",
    "# Create Corpus\n",
    "texts = cleaned_text\n",
    "\n",
    "# Term Document Frequency\n",
    "corpus = [id2word.doc2bow(text) for text in texts]\n",
    "\n",
    "# View\n",
    "print(corpus[:1])"
   ]
  },
  {
   "cell_type": "code",
   "execution_count": 385,
   "metadata": {},
   "outputs": [
    {
     "data": {
      "text/plain": [
       "[[('ambil', 1),\n",
       "  ('asli', 1),\n",
       "  ('banget', 1),\n",
       "  ('ikut', 1),\n",
       "  ('juang', 1),\n",
       "  ('kampus', 1),\n",
       "  ('magang', 1),\n",
       "  ('merdeka', 1),\n",
       "  ('muda', 1),\n",
       "  ('pas', 1),\n",
       "  ('satu', 1),\n",
       "  ('sayang', 1),\n",
       "  ('semester', 3),\n",
       "  ('seru', 2)]]"
      ]
     },
     "execution_count": 385,
     "metadata": {},
     "output_type": "execute_result"
    }
   ],
   "source": [
    "# Human readable format of corpus (term-frequency)\n",
    "[[(id2word[id], freq) for id, freq in cp] for cp in corpus[:1]]"
   ]
  },
  {
   "cell_type": "code",
   "execution_count": 5,
   "metadata": {},
   "outputs": [],
   "source": [
    "# Build LDA model\n",
    "lda_model = gensim.models.ldamodel.LdaModel(corpus=corpus,\n",
    "                                           id2word=id2word,\n",
    "                                           num_topics=8, \n",
    "                                           random_state=100,\n",
    "                                           update_every=1,\n",
    "                                           chunksize=100,\n",
    "                                           passes=10,\n",
    "                                           alpha=0.1, eta=0.1,\n",
    "                                           per_word_topics=True)"
   ]
  },
  {
   "cell_type": "code",
   "execution_count": 6,
   "metadata": {},
   "outputs": [
    {
     "name": "stdout",
     "output_type": "stream",
     "text": [
      "\n",
      "Perplexity:  -6.162951643729217\n",
      "\n",
      "Coherence Score:  0.42247746417420473\n"
     ]
    }
   ],
   "source": [
    "# Compute Perplexity\n",
    "print('\\nPerplexity: ', lda_model.log_perplexity(corpus))  # a measure of how good the model is. lower the better.\n",
    "\n",
    "# Compute Coherence Score\n",
    "coherence_model_lda = CoherenceModel(model=lda_model, texts=cleaned_text, dictionary=id2word, coherence='c_v')\n",
    "coherence_lda = coherence_model_lda.get_coherence()\n",
    "print('\\nCoherence Score: ', coherence_lda)"
   ]
  },
  {
   "cell_type": "code",
   "execution_count": null,
   "metadata": {},
   "outputs": [],
   "source": [
    "# Print the Keyword in the 10 topics\n",
    "pprint(lda_model.print_topics())\n",
    "doc_lda = lda_model[corpus]"
   ]
  },
  {
   "cell_type": "code",
   "execution_count": null,
   "metadata": {},
   "outputs": [],
   "source": [
    "# Visualize the topics\n",
    "pyLDAvis.enable_notebook()\n",
    "vis = pyLDAvis.gensim.prepare(lda_model, corpus, id2word)\n",
    "vis"
   ]
  },
  {
   "cell_type": "code",
   "execution_count": 7,
   "metadata": {},
   "outputs": [],
   "source": [
    "def compute_coherence_values(dictionary, corpus, texts, limit, start=2, step=3):\n",
    "    \"\"\"\n",
    "    Compute c_v coherence for various number of topics\n",
    "\n",
    "    Parameters:\n",
    "    ----------\n",
    "    dictionary : Gensim dictionary\n",
    "    corpus : Gensim corpus\n",
    "    texts : List of input texts\n",
    "    limit : Max num of topics\n",
    "\n",
    "    Returns:\n",
    "    -------\n",
    "    model_list : List of LDA topic models\n",
    "    coherence_values : Coherence values corresponding to the LDA model with respective number of topics\n",
    "    \"\"\"\n",
    "    coherence_values = []\n",
    "    model_list = []\n",
    "    for num_topics in range(start, limit, step):\n",
    "        lda_model = gensim.models.ldamodel.LdaModel(corpus=corpus,\n",
    "                                           id2word=id2word,\n",
    "                                           num_topics=num_topics, \n",
    "                                           random_state=100,\n",
    "                                           update_every=1,\n",
    "                                           chunksize=100,\n",
    "                                           passes=10,\n",
    "                                           alpha=0.1, eta=0.1,\n",
    "                                           per_word_topics=True)\n",
    "        model_list.append(lda_model)\n",
    "        coherencemodel = CoherenceModel(model=lda_model, texts=texts, dictionary=dictionary, coherence='c_v')\n",
    "        coherence_values.append(coherencemodel.get_coherence())\n",
    "\n",
    "    return model_list, coherence_values"
   ]
  },
  {
   "cell_type": "code",
   "execution_count": 8,
   "metadata": {},
   "outputs": [],
   "source": [
    "# Can take a long time to run.\n",
    "model_list, coherence_values = compute_coherence_values(dictionary=id2word, corpus=corpus, texts=cleaned_text, start=2, limit=100, step=3)"
   ]
  },
  {
   "cell_type": "code",
   "execution_count": 9,
   "metadata": {},
   "outputs": [
    {
     "data": {
      "image/png": "[encoded data removed]",
      "text/plain": [
       "<Figure size 432x288 with 1 Axes>"
      ]
     },
     "metadata": {
      "needs_background": "light"
     },
     "output_type": "display_data"
    }
   ],
   "source": [
    "# Show graph\n",
    "limit=100; start=2; step=3;\n",
    "x = range(start, limit, step)\n",
    "eq = r\"$\\alpha$=0.1, $\\beta$=0.1\"\n",
    "plt.title(eq) \n",
    "plt.plot(x, coherence_values, '-o')\n",
    "plt.xlabel(\"Num Topics\")\n",
    "plt.ylabel(\"Coherence score\")\n",
    "plt.show()"
   ]
  },
  {
   "cell_type": "code",
   "execution_count": 10,
   "metadata": {},
   "outputs": [
    {
     "name": "stdout",
     "output_type": "stream",
     "text": [
      "Num Topics = 2  has Coherence Value of 0.35549\n",
      "Num Topics = 5  has Coherence Value of 0.44375\n",
      "Num Topics = 8  has Coherence Value of 0.42248\n",
      "Num Topics = 11  has Coherence Value of 0.4687\n",
      "Num Topics = 14  has Coherence Value of 0.46749\n",
      "Num Topics = 17  has Coherence Value of 0.44357\n",
      "Num Topics = 20  has Coherence Value of 0.45015\n",
      "Num Topics = 23  has Coherence Value of 0.48226\n",
      "Num Topics = 26  has Coherence Value of 0.45992\n",
      "Num Topics = 29  has Coherence Value of 0.48247\n",
      "Num Topics = 32  has Coherence Value of 0.46523\n",
      "Num Topics = 35  has Coherence Value of 0.48612\n",
      "Num Topics = 38  has Coherence Value of 0.51333\n",
      "Num Topics = 41  has Coherence Value of 0.51091\n",
      "Num Topics = 44  has Coherence Value of 0.50568\n",
      "Num Topics = 47  has Coherence Value of 0.49975\n",
      "Num Topics = 50  has Coherence Value of 0.50349\n",
      "Num Topics = 53  has Coherence Value of 0.47646\n",
      "Num Topics = 56  has Coherence Value of 0.50932\n",
      "Num Topics = 59  has Coherence Value of 0.52665\n",
      "Num Topics = 62  has Coherence Value of 0.56474\n",
      "Num Topics = 65  has Coherence Value of 0.53338\n",
      "Num Topics = 68  has Coherence Value of 0.5384\n",
      "Num Topics = 71  has Coherence Value of 0.54275\n",
      "Num Topics = 74  has Coherence Value of 0.54156\n",
      "Num Topics = 77  has Coherence Value of 0.55508\n",
      "Num Topics = 80  has Coherence Value of 0.56688\n",
      "Num Topics = 83  has Coherence Value of 0.54724\n",
      "Num Topics = 86  has Coherence Value of 0.54212\n",
      "Num Topics = 89  has Coherence Value of 0.53105\n",
      "Num Topics = 92  has Coherence Value of 0.54638\n",
      "Num Topics = 95  has Coherence Value of 0.56054\n",
      "Num Topics = 98  has Coherence Value of 0.61485\n"
     ]
    }
   ],
   "source": [
    "# Print the coherence scores\n",
    "for m, cv in zip(x, coherence_values):\n",
    "    print(\"Num Topics =\", m, \" has Coherence Value of\", round(cv, 5))"
   ]
  },
  {
   "cell_type": "code",
   "execution_count": 12,
   "metadata": {},
   "outputs": [
    {
     "name": "stdout",
     "output_type": "stream",
     "text": [
      "[(0,\n",
      "  '0.085*\"kampus\" + 0.084*\"merdeka\" + 0.045*\"tertawa\" + 0.038*\"saku\" + '\n",
      "  '0.037*\"magang\"'),\n",
      " (1,\n",
      "  '0.042*\"merdeka\" + 0.041*\"kampus\" + 0.027*\"dosen\" + 0.026*\"akademik\" + '\n",
      "  '0.023*\"lambat\"'),\n",
      " (2,\n",
      "  '0.153*\"merdeka\" + 0.144*\"kampus\" + 0.039*\"mahasiswa\" + 0.038*\"uang\" + '\n",
      "  '0.020*\"ribet\"'),\n",
      " (3,\n",
      "  '0.042*\"anak\" + 0.020*\"mendikbud\" + 0.018*\"web\" + 0.017*\"stres\" + '\n",
      "  '0.017*\"ilmu\"'),\n",
      " (4,\n",
      "  '0.093*\"merdeka\" + 0.085*\"kampus\" + 0.043*\"mahasiswa\" + 0.026*\"magang\" + '\n",
      "  '0.023*\"kuliah\"')]\n"
     ]
    }
   ],
   "source": [
    "# Select the model and print the topics\n",
    "optimal_model = model_list[1]\n",
    "model_topics = optimal_model.show_topics(formatted=False)\n",
    "pprint(optimal_model.print_topics(num_words=5))"
   ]
  },
  {
   "cell_type": "code",
   "execution_count": 374,
   "metadata": {},
   "outputs": [
    {
     "data": {
      "text/plain": [
       "array([0.15284023, 0.11924951, 0.12809134, 0.12722345, 0.22118625,\n",
       "       0.36014387, 0.12444338, 1.5271426 ], dtype=float32)"
      ]
     },
     "execution_count": 374,
     "metadata": {},
     "output_type": "execute_result"
    }
   ],
   "source": [
    "optimal_model.alpha"
   ]
  },
  {
   "cell_type": "code",
   "execution_count": 13,
   "metadata": {},
   "outputs": [
    {
     "name": "stderr",
     "output_type": "stream",
     "text": [
      "c:\\Users\\HP\\anaconda3\\lib\\site-packages\\pyLDAvis\\_prepare.py:228: FutureWarning: In a future version of pandas all arguments of DataFrame.drop except for the argument 'labels' will be keyword-only\n",
      "  default_term_info  = pd.DataFrame({'saliency': saliency, 'Term': vocab, \\\n"
     ]
    },
    {
     "data": {
      "text/html": [
       "\n",
       "<link rel=\"stylesheet\" type=\"text/css\" href=\"https://cdn.rawgit.com/bmabey/pyLDAvis/files/ldavis.v1.0.0.css\">\n",
       "\n",
       "\n",
       "<div id=\"ldavis_el195402292312903120208380959\"></div>\n",
       "<script type=\"text/javascript\">\n",
       "\n",
       "var ldavis_el195402292312903120208380959_data = {\"mdsDat\": {\"x\": [-0.18081395013806412, -0.1422546193421466, -0.07578559847641127, 0.08596030051876702, 0.31289386743785463], \"y\": [-0.024406778130398904, -0.06170025898884215, 0.20996058798183623, -0.18276173545136434, 0.05890818458876915], \"topics\": [1, 2, 3, 4, 5], \"cluster\": [1, 1, 1, 1, 1], \"Freq\": [46.34660931909262, 22.80506314551268, 17.733599891918026, 6.734563682931065, 6.380163960545612]}, \"tinfo\": {\"Term\": [\"tertawa\", \"uang\", \"magang\", \"gara\", \"saku\", \"mahasiswa\", \"kampus\", \"merdeka\", \"cair\", \"anak\", \"susah\", \"ribet\", \"ukt\", \"daring\", \"bebas\", \"semester\", \"dosen\", \"akademik\", \"kuliah\", \"lambat\", \"didik\", \"sengsara\", \"baik\", \"jajah\", \"mendikbud\", \"batas\", \"nadiem\", \"ancam\", \"bikin\", \"web\", \"uang\", \"ribet\", \"jajah\", \"sks\", \"anjing\", \"turun\", \"urus\", \"larang\", \"konversi\", \"beda\", \"suara\", \"demo\", \"jurus\", \"bungkam\", \"universitas\", \"kabar\", \"asli\", \"ngomong\", \"hati\", \"penuh\", \"kasih\", \"birokrat\", \"indonesia\", \"hak\", \"suruh\", \"tanda\", \"janji\", \"kelas\", \"kemendikbud\", \"cerita\", \"sih\", \"merdeka\", \"kampus\", \"mahasiswa\", \"ajar\", \"sistem\", \"banget\", \"sengsara\", \"saku\", \"bayar\", \"bijak\", \"cair\", \"kuliah\", \"ukt\", \"kayak\", \"perintah\", \"susah\", \"daring\", \"batas\", \"nadiem\", \"pikir\", \"butuh\", \"pandemi\", \"kritik\", \"miring\", \"media\", \"apa\", \"gumam\", \"total\", \"bagi\", \"manusia\", \"dengar\", \"rebah\", \"mohon\", \"fokus\", \"sia\", \"otak\", \"kepala\", \"sulit\", \"cerdas\", \"paham\", \"keluh\", \"buka\", \"kecewa\", \"malam\", \"suka\", \"bikin\", \"semester\", \"ukt\", \"kuliah\", \"didik\", \"magang\", \"mahasiswa\", \"bijak\", \"merdeka\", \"kampus\", \"menteri\", \"sengsara\", \"mas\", \"ajar\", \"banget\", \"kayak\", \"tertawa\", \"gara\", \"lancar\", \"dunia\", \"terap\", \"terima\", \"tegas\", \"birokrasi\", \"rumah\", \"kuota\", \"daftar\", \"sarjana\", \"bilang\", \"selesai\", \"permisi\", \"menang\", \"bulan\", \"tunggu\", \"rakyat\", \"melulu\", \"bangun\", \"hai\", \"langit\", \"bantu\", \"vokasi\", \"senang\", \"jaya\", \"rapel\", \"januari\", \"kelompok\", \"atur\", \"cair\", \"magang\", \"saku\", \"kampus\", \"merdeka\", \"usaha\", \"banget\", \"bayar\", \"semester\", \"dosen\", \"akademik\", \"lambat\", \"baik\", \"ancam\", \"malas\", \"uji\", \"kreativitas\", \"bohong\", \"judul\", \"derita\", \"kaprah\", \"periode\", \"lulus\", \"kait\", \"bentuk\", \"sarana\", \"unair\", \"terkadang\", \"alangkah\", \"wujud\", \"jebul\", \"ribut\", \"laksana\", \"ui\", \"diskusi\", \"semangat\", \"diam\", \"cuti\", \"efektif\", \"bebas\", \"kampus\", \"merdeka\", \"mahasiswa\", \"anak\", \"mendikbud\", \"web\", \"stres\", \"ilmu\", \"guru\", \"hari\", \"prodi\", \"buzzer\", \"independen\", \"at\", \"studi\", \"unggul\", \"kaget\", \"perhati\", \"least\", \"ppt\", \"telegram\", \"duit\", \"tri\", \"akreditasi\", \"rektor\", \"deep\", \"injak\", \"tua\", \"temu\", \"mardiana\", \"korporasi\", \"kontributor\", \"ana\", \"didik\", \"saku\"], \"Freq\": [55.0, 121.0, 87.0, 44.0, 108.0, 197.0, 718.0, 757.0, 60.0, 18.0, 35.0, 63.0, 55.0, 30.0, 20.0, 37.0, 12.0, 12.0, 64.0, 11.0, 29.0, 64.0, 10.0, 41.0, 9.0, 18.0, 18.0, 9.0, 23.0, 8.0, 120.709121074662, 63.0044805188096, 40.7843417370049, 32.01155474248619, 27.894430775544517, 21.88992822859844, 21.819557225540716, 20.220473862569555, 19.603423796995177, 17.569643132531237, 17.312628395948256, 17.25352380048338, 16.076176741878907, 15.261306117011967, 14.205279724744555, 14.196022936104793, 13.81048216835, 13.775322794853588, 12.768526094815023, 12.1006592456692, 11.996156074047995, 11.816734128692177, 11.615028704231772, 11.251896830137328, 10.589398171887357, 10.558853755436994, 10.293116735106675, 9.916752132348652, 9.800782487057548, 9.787935706759026, 33.12753526453074, 489.3167141162174, 461.7504992052303, 123.96158633112864, 40.101904403934014, 15.125834508299482, 48.10501032548251, 39.792279754238244, 57.73699153911794, 17.215765061015706, 23.35466572779814, 22.201720758472423, 21.487838711604432, 19.55096169389454, 15.078544262593706, 14.454957709815313, 35.06444738658455, 30.126169008570756, 18.36979808801319, 18.265656685975063, 15.167021672924095, 15.113891602977164, 14.134570413236325, 13.5857820452795, 8.64397880449462, 8.114637423285103, 8.101639216322008, 8.063071428544436, 7.814599458588113, 7.707545893977121, 7.462022819219457, 7.328943454581641, 7.119070862461071, 6.935343084074897, 6.889433179053828, 6.889433179053828, 6.6265855286671735, 6.468251749144185, 6.4599678073753575, 6.329403892951843, 6.242310837196745, 6.137315034282675, 6.022676549771697, 5.982063856716231, 5.944156521550417, 5.8007402286882055, 20.6067268405023, 29.627242976170322, 36.160178675378354, 36.720216042658016, 19.36628957635469, 41.75168656161356, 67.2587131836698, 25.905819516545073, 146.1265464762284, 133.5299593505029, 14.851359118519813, 24.784569337960377, 10.772788746224746, 18.074911506757402, 15.17025708260394, 8.934828470175761, 55.05134017183455, 44.1593193975414, 13.008138931911217, 12.817850757799548, 12.751250011116088, 11.888468078307927, 11.636175661328268, 11.575583617991953, 11.282192309949338, 11.031757689440957, 10.34365318462695, 9.993889293499208, 8.722556093832392, 7.620810234041929, 7.289792263396516, 7.172472301979643, 6.419314642930116, 6.409076196325486, 6.265304343761745, 6.00077572056489, 5.918163761796398, 5.818510576478632, 5.7744718881705355, 5.758259586184552, 5.678297786650458, 5.502787435146117, 5.264996342159981, 5.127995277965734, 5.127826750918063, 5.099061754632139, 8.694995923117787, 36.64299022027443, 45.12095872523544, 47.08229364437835, 104.11788841383913, 102.6734687957638, 6.702342965736262, 17.366872220407576, 8.87404648517948, 8.070996822125448, 12.58559554864007, 12.100725624491055, 10.66064197298945, 9.91007047414461, 9.05810944541981, 7.652397655941448, 7.400068026860553, 6.8974658909701745, 5.500161791484041, 4.832003618043747, 4.772176549276217, 4.454150045461189, 4.1802490530132275, 3.924933754590508, 3.8005084471553316, 3.6728714082177314, 3.3042141397865006, 3.3042141397865006, 3.3042141397865006, 3.3035810789567197, 3.3035810789567197, 3.30299466243071, 3.30299466243071, 3.2408720430669113, 3.0236119880135677, 3.0226847426446564, 2.9907049740789753, 2.9900693098461932, 2.6890569124447095, 2.6883939124804157, 8.75367530867381, 19.20116973555074, 19.412029758226247, 5.997085905428902, 18.428307492036794, 9.027105144418563, 7.82410301197167, 7.631136691027633, 7.440645815060727, 6.953346537720838, 6.623298032198768, 6.191308630741149, 5.839071966213659, 5.307834568196976, 4.988608221411695, 4.944923317956076, 4.70682513800685, 4.549072042415856, 4.430435252559487, 4.347057727550921, 4.179791721355349, 4.0674397336005015, 3.986939265947456, 3.913728659009199, 3.761083892001869, 3.7426352087448658, 3.6978724878315843, 3.6978724878315843, 3.626082117093259, 3.4879064945147, 3.2150380138160255, 3.2150380138160255, 3.2150380138160255, 3.2150380138160255, 3.8744244956932823, 3.4175472532496203], \"Total\": [55.0, 121.0, 87.0, 44.0, 108.0, 197.0, 718.0, 757.0, 60.0, 18.0, 35.0, 63.0, 55.0, 30.0, 20.0, 37.0, 12.0, 12.0, 64.0, 11.0, 29.0, 64.0, 10.0, 41.0, 9.0, 18.0, 18.0, 9.0, 23.0, 8.0, 121.05377626894219, 63.34905719541674, 41.12891570450436, 32.35607871890849, 28.23896574852217, 22.234426012266546, 22.16410961901091, 20.564940043063523, 19.94793748398611, 17.914245861515973, 17.657256475771504, 17.597998573345524, 16.420740573215856, 15.605815636336667, 14.549798435421875, 14.540572460735772, 14.154955788156808, 14.119818528602915, 13.113059363851212, 12.445346366252044, 12.340703276205788, 12.161185196709097, 11.959593429975767, 11.596446656360492, 10.933885720960337, 10.903425757735933, 10.637632194393193, 10.261295986388802, 10.145371792697459, 10.132621183079548, 37.65150199442216, 757.609766395369, 718.6805268443705, 197.39076126194192, 58.433451825127335, 17.392143631934193, 80.8064035435005, 64.8334695402038, 108.40797725307937, 26.342017683008326, 52.39870958696845, 60.86186901375992, 64.32595175651088, 55.96783074936078, 24.2699806188691, 19.183249693138553, 35.411824098100205, 30.473291799170177, 18.717122526574588, 18.612784832917793, 15.514220011063278, 15.46151873868996, 14.481671650690812, 13.932915497184378, 8.991061367509861, 8.462106173619533, 8.448772052200955, 8.410269139079253, 8.161739425878492, 8.05492124856967, 7.80925904188475, 7.676151514553823, 7.466157972376613, 7.282465229907026, 7.236563153146964, 7.236563153146964, 6.973695232804247, 6.815484768043767, 6.807069257552254, 6.676710852692668, 6.58943222322333, 6.4844092024307995, 6.370526959196553, 6.329315306830769, 6.2913735754767055, 6.14794939097473, 23.40099080000774, 37.95302553412382, 55.96783074936078, 64.32595175651088, 29.429930030879845, 87.12796586480738, 197.39076126194192, 52.39870958696845, 757.609766395369, 718.6805268443705, 24.626365171257806, 64.8334695402038, 18.246405363611622, 58.433451825127335, 80.8064035435005, 24.2699806188691, 55.39400474221306, 44.50202620562109, 13.350803197775994, 13.16057894879306, 13.09405873042682, 12.23120887915887, 11.978893249880779, 11.91825352052628, 11.625229653919936, 11.374613940346858, 10.686320719279871, 10.336520236583024, 9.065284974883168, 7.963468324725418, 7.632540347895407, 7.515098111449129, 6.761945844938771, 6.751709730700114, 6.608076448729084, 6.343423333242396, 6.261086326221587, 6.161163759273906, 6.117516780471505, 6.100931143570352, 6.020919930318549, 5.845457569534981, 5.60798293950902, 5.470645137378031, 5.470492337964004, 5.441818930197495, 10.09006635521596, 60.86186901375992, 87.12796586480738, 108.40797725307937, 718.6805268443705, 757.609766395369, 8.25669397288721, 80.8064035435005, 26.342017683008326, 37.95302553412382, 12.93737536999119, 12.45247152476964, 11.012447735186077, 10.261917851917385, 9.409875797596944, 8.004215117553501, 7.75206094178545, 7.24949635286076, 5.851917296794072, 5.183991015571127, 5.123958187461313, 4.80590191785574, 4.53202000920366, 4.276673497533411, 4.152253960383464, 4.024968281406494, 3.6559885689848315, 3.6559885689848315, 3.6559885689848315, 3.655458652923156, 3.655458652923156, 3.654888095756789, 3.654888095756789, 3.592630349646702, 3.3754312597230003, 3.374443499154986, 3.342447768866232, 3.341890609701744, 3.0409123839197667, 3.0403645749397055, 20.202618783334607, 718.6805268443705, 757.609766395369, 197.39076126194192, 18.782324069155177, 9.381242255939132, 8.17819643623891, 7.9853312269650205, 7.794716279486594, 7.307339069678132, 6.977318927161393, 6.545300492618142, 6.193227656478938, 5.661825427384788, 5.342621083072846, 5.298917392714512, 5.061022392129256, 4.9032419592434024, 4.7844243372987885, 4.701117122678614, 4.533916419914021, 4.421438455501407, 4.34102449601902, 4.267737178166335, 4.115134794867155, 4.096670487746274, 4.051873753032371, 4.051873753032371, 3.9801790708048603, 3.8419489356651297, 3.5690422223581693, 3.5690422223581693, 3.5690422223581693, 3.5690422223581693, 29.429930030879845, 108.40797725307937], \"Category\": [\"Default\", \"Default\", \"Default\", \"Default\", \"Default\", \"Default\", \"Default\", \"Default\", \"Default\", \"Default\", \"Default\", \"Default\", \"Default\", \"Default\", \"Default\", \"Default\", \"Default\", \"Default\", \"Default\", \"Default\", \"Default\", \"Default\", \"Default\", \"Default\", \"Default\", \"Default\", \"Default\", \"Default\", \"Default\", \"Default\", \"Topic1\", \"Topic1\", \"Topic1\", \"Topic1\", \"Topic1\", \"Topic1\", \"Topic1\", \"Topic1\", \"Topic1\", \"Topic1\", \"Topic1\", \"Topic1\", \"Topic1\", \"Topic1\", \"Topic1\", \"Topic1\", \"Topic1\", \"Topic1\", \"Topic1\", \"Topic1\", \"Topic1\", \"Topic1\", \"Topic1\", \"Topic1\", \"Topic1\", \"Topic1\", \"Topic1\", \"Topic1\", \"Topic1\", \"Topic1\", \"Topic1\", \"Topic1\", \"Topic1\", \"Topic1\", \"Topic1\", \"Topic1\", \"Topic1\", \"Topic1\", \"Topic1\", \"Topic1\", \"Topic1\", \"Topic1\", \"Topic1\", \"Topic1\", \"Topic1\", \"Topic1\", \"Topic2\", \"Topic2\", \"Topic2\", \"Topic2\", \"Topic2\", \"Topic2\", \"Topic2\", \"Topic2\", \"Topic2\", \"Topic2\", \"Topic2\", \"Topic2\", \"Topic2\", \"Topic2\", \"Topic2\", \"Topic2\", \"Topic2\", \"Topic2\", \"Topic2\", \"Topic2\", \"Topic2\", \"Topic2\", \"Topic2\", \"Topic2\", \"Topic2\", \"Topic2\", \"Topic2\", \"Topic2\", \"Topic2\", \"Topic2\", \"Topic2\", \"Topic2\", \"Topic2\", \"Topic2\", \"Topic2\", \"Topic2\", \"Topic2\", \"Topic2\", \"Topic2\", \"Topic2\", \"Topic2\", \"Topic2\", \"Topic2\", \"Topic2\", \"Topic2\", \"Topic2\", \"Topic3\", \"Topic3\", \"Topic3\", \"Topic3\", \"Topic3\", \"Topic3\", \"Topic3\", \"Topic3\", \"Topic3\", \"Topic3\", \"Topic3\", \"Topic3\", \"Topic3\", \"Topic3\", \"Topic3\", \"Topic3\", \"Topic3\", \"Topic3\", \"Topic3\", \"Topic3\", \"Topic3\", \"Topic3\", \"Topic3\", \"Topic3\", \"Topic3\", \"Topic3\", \"Topic3\", \"Topic3\", \"Topic3\", \"Topic3\", \"Topic3\", \"Topic3\", \"Topic3\", \"Topic3\", \"Topic3\", \"Topic3\", \"Topic3\", \"Topic3\", \"Topic3\", \"Topic3\", \"Topic4\", \"Topic4\", \"Topic4\", \"Topic4\", \"Topic4\", \"Topic4\", \"Topic4\", \"Topic4\", \"Topic4\", \"Topic4\", \"Topic4\", \"Topic4\", \"Topic4\", \"Topic4\", \"Topic4\", \"Topic4\", \"Topic4\", \"Topic4\", \"Topic4\", \"Topic4\", \"Topic4\", \"Topic4\", \"Topic4\", \"Topic4\", \"Topic4\", \"Topic4\", \"Topic4\", \"Topic4\", \"Topic4\", \"Topic4\", \"Topic4\", \"Topic4\", \"Topic4\", \"Topic4\", \"Topic5\", \"Topic5\", \"Topic5\", \"Topic5\", \"Topic5\", \"Topic5\", \"Topic5\", \"Topic5\", \"Topic5\", \"Topic5\", \"Topic5\", \"Topic5\", \"Topic5\", \"Topic5\", \"Topic5\", \"Topic5\", \"Topic5\", \"Topic5\", \"Topic5\", \"Topic5\", \"Topic5\", \"Topic5\", \"Topic5\", \"Topic5\", \"Topic5\", \"Topic5\", \"Topic5\", \"Topic5\", \"Topic5\", \"Topic5\", \"Topic5\", \"Topic5\"], \"logprob\": [30.0, 29.0, 28.0, 27.0, 26.0, 25.0, 24.0, 23.0, 22.0, 21.0, 20.0, 19.0, 18.0, 17.0, 16.0, 15.0, 14.0, 13.0, 12.0, 11.0, 10.0, 9.0, 8.0, 7.0, 6.0, 5.0, 4.0, 3.0, 2.0, 1.0, -3.2795000076293945, -3.9296998977661133, -4.36460018157959, -4.606800079345703, -4.7444000244140625, -4.986800193786621, -4.990099906921387, -5.066199779510498, -5.0971999168396, -5.206699848175049, -5.221399784088135, -5.224800109863281, -5.295499801635742, -5.347499847412109, -5.4191999435424805, -5.419899940490723, -5.447400093078613, -5.449999809265137, -5.525899887084961, -5.579599857330322, -5.5883002281188965, -5.603300094604492, -5.62060022354126, -5.652299880981445, -5.7129998207092285, -5.71589994430542, -5.741399765014648, -5.778600215911865, -5.79040002822876, -5.7916998863220215, -4.572500228881836, -1.8797999620437622, -1.9378000497817993, -3.2528998851776123, -4.381400108337402, -5.356500148773193, -4.19950008392334, -4.389200210571289, -4.017000198364258, -5.2270002365112305, -4.922100067138672, -4.972700119018555, -5.00540018081665, -5.099800109863281, -5.359600067138672, -5.401800155639648, -3.80649995803833, -3.9583001136779785, -4.453000068664551, -4.458700180053711, -4.644599914550781, -4.648099899291992, -4.715099811553955, -4.754700183868408, -5.2067999839782715, -5.269999980926514, -5.271599769592285, -5.276400089263916, -5.307700157165527, -5.321499824523926, -5.353899955749512, -5.3719000816345215, -5.400899887084961, -5.42710018157959, -5.433700084686279, -5.433700084686279, -5.472599983215332, -5.496799945831299, -5.4980998039245605, -5.518499851226807, -5.532299995422363, -5.549300193786621, -5.56820011138916, -5.574900150299072, -5.581299781799316, -5.6057000160217285, -4.338099956512451, -3.9749999046325684, -3.775700092315674, -3.7604000568389893, -4.400199890136719, -3.631999969482422, -3.155100107192993, -4.1092000007629395, -2.379199981689453, -2.469399929046631, -4.665599822998047, -4.153500080108643, -4.986700057983398, -4.469200134277344, -4.644400119781494, -5.173699855804443, -3.1038999557495117, -3.324399948120117, -4.546599864959717, -4.561299800872803, -4.566500186920166, -4.636600017547607, -4.658100128173828, -4.663300037384033, -4.688899993896484, -4.711400032043457, -4.7758002281188965, -4.810200214385986, -4.946300029754639, -5.081299781799316, -5.125699996948242, -5.141900062561035, -5.252900123596191, -5.254499912261963, -5.277100086212158, -5.320300102233887, -5.334099769592285, -5.351099967956543, -5.358699798583984, -5.361499786376953, -5.375500202178955, -5.406899929046631, -5.451099872589111, -5.477499961853027, -5.477499961853027, -5.483099937438965, -4.949399948120117, -3.510999917984009, -3.302799940109253, -3.2602999210357666, -2.466599941253662, -2.480600118637085, -5.209700107574463, -4.257599830627441, -4.928999900817871, -5.023900032043457, -3.6113998889923096, -3.650700092315674, -3.777400016784668, -3.850399971008301, -3.9402999877929688, -4.10890007019043, -4.142499923706055, -4.212800025939941, -4.439199924468994, -4.568699836730957, -4.581200122833252, -4.650100231170654, -4.713600158691406, -4.776599884033203, -4.808800220489502, -4.8429999351501465, -4.948800086975098, -4.948800086975098, -4.948800086975098, -4.948999881744385, -4.948999881744385, -4.949100017547607, -4.949100017547607, -4.968100070953369, -5.037499904632568, -5.037799835205078, -5.048500061035156, -5.048699855804443, -5.154799938201904, -5.15500020980835, -3.9744999408721924, -3.188999891281128, -3.178100109100342, -4.352700233459473, -3.1760001182556152, -3.889699935913086, -4.032700061798096, -4.057700157165527, -4.082900047302246, -4.150700092315674, -4.1992998123168945, -4.2667999267578125, -4.325300216674805, -4.4207000732421875, -4.482699871063232, -4.491499900817871, -4.540900230407715, -4.574999809265137, -4.601399898529053, -4.6203999519348145, -4.659599781036377, -4.6869001388549805, -4.706900119781494, -4.725399971008301, -4.765200138092041, -4.770100116729736, -4.782100200653076, -4.782100200653076, -4.801799774169922, -4.84060001373291, -4.922100067138672, -4.922100067138672, -4.922100067138672, -4.922100067138672, -4.735499858856201, -4.861000061035156], \"loglift\": [30.0, 29.0, 28.0, 27.0, 26.0, 25.0, 24.0, 23.0, 22.0, 21.0, 20.0, 19.0, 18.0, 17.0, 16.0, 15.0, 14.0, 13.0, 12.0, 11.0, 10.0, 9.0, 8.0, 7.0, 6.0, 5.0, 4.0, 3.0, 2.0, 1.0, 0.7662, 0.7636, 0.7606, 0.7583, 0.7567, 0.7534, 0.7534, 0.7521, 0.7516, 0.7496, 0.7493, 0.7493, 0.7478, 0.7467, 0.7451, 0.745, 0.7444, 0.7443, 0.7424, 0.7409, 0.7407, 0.7403, 0.7398, 0.7389, 0.737, 0.7369, 0.7361, 0.7349, 0.7345, 0.7344, 0.641, 0.3319, 0.3266, 0.3038, 0.3926, 0.6294, 0.2504, 0.2809, 0.139, 0.3437, -0.0391, -0.2394, -0.3275, -0.2827, 0.2931, 0.486, 1.4683, 1.4667, 1.4595, 1.4594, 1.4556, 1.4554, 1.4539, 1.453, 1.4388, 1.4363, 1.4362, 1.436, 1.4347, 1.4341, 1.4327, 1.4319, 1.4306, 1.4293, 1.429, 1.429, 1.4271, 1.4259, 1.4259, 1.4248, 1.4241, 1.4232, 1.422, 1.4218, 1.4214, 1.4201, 1.351, 1.2305, 1.0414, 0.9176, 1.0597, 0.7425, 0.4015, 0.7738, -0.1675, -0.2049, 0.9725, 0.5166, 0.9512, 0.3048, -0.1945, 0.4789, 1.7235, 1.722, 1.7037, 1.7033, 1.7032, 1.7013, 1.7007, 1.7005, 1.6998, 1.6991, 1.6971, 1.696, 1.6912, 1.6857, 1.6838, 1.683, 1.6777, 1.6776, 1.6764, 1.6742, 1.6734, 1.6725, 1.672, 1.6719, 1.6711, 1.6693, 1.6666, 1.665, 1.665, 1.6647, 1.5809, 1.2223, 1.0717, 0.8957, -0.2022, -0.2689, 1.5211, 0.1922, 0.6417, 0.1816, 2.6703, 2.6693, 2.6654, 2.663, 2.6598, 2.653, 2.6514, 2.6481, 2.6359, 2.6276, 2.6268, 2.6219, 2.6171, 2.6121, 2.6094, 2.6064, 2.5967, 2.5967, 2.5967, 2.5967, 2.5967, 2.5967, 2.5967, 2.5949, 2.5878, 2.5878, 2.5867, 2.5867, 2.575, 2.5749, 1.8616, -0.9245, -0.9664, -0.796, 2.7329, 2.7135, 2.7077, 2.7066, 2.7055, 2.7023, 2.6999, 2.6964, 2.6931, 2.6874, 2.6834, 2.6828, 2.6794, 2.677, 2.6751, 2.6737, 2.6707, 2.6685, 2.6669, 2.6654, 2.662, 2.6616, 2.6606, 2.6606, 2.6588, 2.6553, 2.6475, 2.6475, 2.6475, 2.6475, 0.7244, -0.705]}, \"token.table\": {\"Topic\": [1, 2, 4, 5, 4, 5, 5, 4, 1, 2, 1, 5, 1, 3, 2, 4, 1, 2, 3, 3, 3, 2, 1, 3, 1, 4, 1, 4, 1, 2, 3, 2, 3, 3, 3, 1, 4, 2, 3, 1, 2, 5, 1, 3, 5, 2, 1, 4, 3, 2, 5, 1, 2, 4, 4, 1, 2, 5, 4, 4, 5, 3, 4, 2, 3, 2, 5, 3, 1, 5, 1, 5, 5, 1, 5, 1, 1, 3, 3, 4, 4, 1, 1, 5, 4, 1, 2, 3, 4, 4, 1, 1, 2, 2, 1, 3, 2, 1, 2, 5, 1, 5, 4, 2, 1, 2, 3, 3, 4, 4, 3, 3, 1, 5, 4, 2, 3, 1, 2, 4, 2, 4, 2, 5, 1, 2, 2, 3, 3, 5, 1, 2, 1, 2, 3, 4, 2, 2, 2, 1, 2, 2, 2, 1, 5, 1, 2, 4, 3, 2, 5, 5, 3, 3, 2, 5, 1, 4, 3, 1, 3, 5, 4, 3, 3, 4, 2, 3, 3, 1, 2, 2, 1, 2, 1, 2, 1, 5, 5, 1, 2, 2, 1, 2, 1, 3, 5, 5, 3, 3, 4, 3, 2, 5, 5, 3, 1, 1, 4, 4, 1, 2, 4, 5, 1, 1, 2, 3, 3, 5, 4], \"Freq\": [0.6845393991049379, 0.308042729597222, 0.9636641188964284, 0.9720216224725462, 0.8206904481332306, 0.8405616445797645, 0.9583478558737079, 0.9564419545578257, 0.9915377301474054, 0.9468831624964901, 0.9890528949382903, 0.9358702259161931, 0.09910737598698346, 0.8919663838828512, 0.9931816529454682, 0.9744767152011018, 0.5940123294085248, 0.18562885294016399, 0.2103793666655192, 0.9583001554972735, 0.9834564362070007, 0.9616862834788619, 0.6453567909858967, 0.34165947758076887, 0.5444838670654933, 0.44548680032631277, 1.0047869242806502, 0.9937966513868355, 0.4389421071873132, 0.49619542551609314, 0.05725331832877998, 0.8973978999211031, 0.12819969998872902, 0.9927983538229576, 1.0068589310785285, 0.9867459302607516, 1.0253049890652168, 0.9418373139977602, 0.8873185526161707, 0.9611801362739361, 0.9701504912622144, 0.9688001689592669, 0.3614742753796493, 0.6079340085930466, 0.032861297761786305, 0.8986460747480541, 0.9869114634127434, 0.9865460168677961, 0.9357757700420093, 0.9844686356075564, 0.9871975890182784, 0.9660189440945136, 0.9119152985357502, 0.9758081188553319, 0.8976954515778549, 0.20387408307476096, 0.6456012630700764, 0.13591605538317397, 0.889035481184156, 1.0048405977424193, 0.9214414716314641, 0.9877984890012923, 0.9867237714606953, 0.9673100133114861, 0.9887190258865634, 0.9512180725379059, 0.9579410416366967, 0.9738419938877101, 0.9485664295249141, 1.0032506859834533, 0.9913781093554047, 0.8980442326582105, 0.8831074119340188, 1.0033785906068478, 0.9871975890182784, 0.9968655700667975, 0.9400588229841909, 0.9139945165997416, 0.8915861645680668, 0.820818564454246, 0.9645078444352094, 0.9743774909943993, 0.9628231651679814, 1.0197334827774902, 0.9633322138202252, 0.6428447449781056, 0.1864528048204895, 0.14470963956217098, 0.02643733799693508, 0.8323099531304394, 0.9723919076101034, 0.6180474651198526, 0.37082847907191163, 0.9479698370413996, 0.9745357714332185, 0.9188104316103255, 0.9252963242589302, 0.9856711221956306, 0.8803482370223485, 0.8405616445797645, 1.002609919750134, 0.8405616445797645, 0.9655843191420732, 1.004814821623599, 0.32646232860245933, 0.5751955313471903, 0.09327495102927409, 0.9670657885787168, 0.8350427703465286, 0.9988696668092866, 0.9737241877826174, 0.9807901171850243, 0.9725289720329588, 0.8508615921742597, 0.9353063782650269, 0.48204958744439813, 0.5164817008332837, 0.6281955609637132, 0.3394282466497483, 0.030396559401469996, 0.9536868106811432, 0.9994733877723679, 0.8963718532649114, 0.8405616445797645, 0.3836372074666244, 0.602858468876124, 0.9453911160958791, 0.9458615143273345, 0.9314582319737934, 0.9593612183186323, 0.40606885873971, 0.6091032881095649, 0.645451024643746, 0.19271134887113892, 0.13595389680635142, 0.025078874168161912, 1.0009941687777195, 0.9612129655288952, 0.9670772085736441, 0.9915141594518233, 1.003771998390755, 0.9105488601664379, 0.9667392230462679, 0.9642158319145149, 0.83604624464776, 0.7298033557373497, 0.20851524449638564, 0.8826086362983327, 0.9171258428958291, 0.9668549233737446, 0.8822394657367446, 0.9166882417036257, 0.907979810244775, 0.9139689880152596, 0.9375638750075594, 0.9764026694274218, 0.9944899385899306, 0.820818564454246, 0.9462178664393857, 0.5350159782485241, 0.43354743064966605, 0.027673240254234004, 0.8205714934259267, 0.9674435662214436, 1.0045874076200136, 0.8975458129649723, 0.7904508159178719, 0.21078688424476585, 1.0264380381906208, 0.6169652848085765, 0.3856033030053603, 0.9673100133114861, 0.8764590587883784, 0.10623746167131859, 0.8624583787623561, 0.11499445050164749, 0.9889949977560042, 1.0018369648819883, 0.9435889691117861, 0.9627769763284935, 0.9759351644644438, 0.8814366025941586, 1.006046732216427, 0.9883704353393561, 1.0088572384872294, 1.0017619950089656, 0.9046829533549136, 0.7808536891656086, 0.9928166863794299, 0.981096808872847, 0.8205714934259267, 0.9928872313159764, 0.980183216170114, 0.9372648391901747, 1.0049799089042322, 0.8886637961815687, 0.9894566195620604, 0.9995557654573063, 0.8887753205930168, 0.9029856773014177, 0.3573481361027812, 0.6432266449850063, 0.8205714934259267, 0.9879426749377447, 0.9622126424732197, 0.9925957044143948, 0.12111385056582386, 0.847796953960767, 0.9965254594712003, 0.9782107904073699, 0.8206904481332306], \"Term\": [\"ajar\", \"ajar\", \"akademik\", \"akreditasi\", \"alangkah\", \"ana\", \"anak\", \"ancam\", \"anjing\", \"apa\", \"asli\", \"at\", \"atur\", \"atur\", \"bagi\", \"baik\", \"banget\", \"banget\", \"banget\", \"bangun\", \"bantu\", \"batas\", \"bayar\", \"bayar\", \"bebas\", \"bebas\", \"beda\", \"bentuk\", \"bijak\", \"bijak\", \"bijak\", \"bikin\", \"bikin\", \"bilang\", \"birokrasi\", \"birokrat\", \"bohong\", \"buka\", \"bulan\", \"bungkam\", \"butuh\", \"buzzer\", \"cair\", \"cair\", \"cair\", \"cerdas\", \"cerita\", \"cuti\", \"daftar\", \"daring\", \"deep\", \"demo\", \"dengar\", \"derita\", \"diam\", \"didik\", \"didik\", \"didik\", \"diskusi\", \"dosen\", \"duit\", \"dunia\", \"efektif\", \"fokus\", \"gara\", \"gumam\", \"guru\", \"hai\", \"hak\", \"hari\", \"hati\", \"ilmu\", \"independen\", \"indonesia\", \"injak\", \"jajah\", \"janji\", \"januari\", \"jaya\", \"jebul\", \"judul\", \"jurus\", \"kabar\", \"kaget\", \"kait\", \"kampus\", \"kampus\", \"kampus\", \"kampus\", \"kaprah\", \"kasih\", \"kayak\", \"kayak\", \"kecewa\", \"kelas\", \"kelompok\", \"keluh\", \"kemendikbud\", \"kepala\", \"kontributor\", \"konversi\", \"korporasi\", \"kreativitas\", \"kritik\", \"kuliah\", \"kuliah\", \"kuliah\", \"kuota\", \"laksana\", \"lambat\", \"lancar\", \"langit\", \"larang\", \"least\", \"lulus\", \"magang\", \"magang\", \"mahasiswa\", \"mahasiswa\", \"mahasiswa\", \"malam\", \"malas\", \"manusia\", \"mardiana\", \"mas\", \"mas\", \"media\", \"melulu\", \"menang\", \"mendikbud\", \"menteri\", \"menteri\", \"merdeka\", \"merdeka\", \"merdeka\", \"merdeka\", \"miring\", \"mohon\", \"nadiem\", \"ngomong\", \"otak\", \"paham\", \"pandemi\", \"penuh\", \"perhati\", \"perintah\", \"perintah\", \"periode\", \"permisi\", \"pikir\", \"ppt\", \"prodi\", \"rakyat\", \"rapel\", \"rebah\", \"rektor\", \"ribet\", \"ribut\", \"rumah\", \"saku\", \"saku\", \"saku\", \"sarana\", \"sarjana\", \"selesai\", \"semangat\", \"semester\", \"semester\", \"senang\", \"sengsara\", \"sengsara\", \"sia\", \"sih\", \"sih\", \"sistem\", \"sistem\", \"sks\", \"stres\", \"studi\", \"suara\", \"suka\", \"sulit\", \"suruh\", \"susah\", \"tanda\", \"tegas\", \"telegram\", \"temu\", \"terap\", \"terima\", \"terkadang\", \"tertawa\", \"total\", \"tri\", \"tua\", \"tunggu\", \"turun\", \"uang\", \"ui\", \"uji\", \"ukt\", \"ukt\", \"unair\", \"unggul\", \"universitas\", \"urus\", \"usaha\", \"usaha\", \"vokasi\", \"web\", \"wujud\"]}, \"R\": 30, \"lambda.step\": 0.01, \"plot.opts\": {\"xlab\": \"PC1\", \"ylab\": \"PC2\"}, \"topic.order\": [3, 5, 1, 2, 4]};\n",
       "\n",
       "function LDAvis_load_lib(url, callback){\n",
       "  var s = document.createElement('script');\n",
       "  s.src = url;\n",
       "  s.async = true;\n",
       "  s.onreadystatechange = s.onload = callback;\n",
       "  s.onerror = function(){console.warn(\"failed to load library \" + url);};\n",
       "  document.getElementsByTagName(\"head\")[0].appendChild(s);\n",
       "}\n",
       "\n",
       "if(typeof(LDAvis) !== \"undefined\"){\n",
       "   // already loaded: just create the visualization\n",
       "   !function(LDAvis){\n",
       "       new LDAvis(\"#\" + \"ldavis_el195402292312903120208380959\", ldavis_el195402292312903120208380959_data);\n",
       "   }(LDAvis);\n",
       "}else if(typeof define === \"function\" && define.amd){\n",
       "   // require.js is available: use it to load d3/LDAvis\n",
       "   require.config({paths: {d3: \"https://cdnjs.cloudflare.com/ajax/libs/d3/3.5.5/d3.min\"}});\n",
       "   require([\"d3\"], function(d3){\n",
       "      window.d3 = d3;\n",
       "      LDAvis_load_lib(\"https://cdn.rawgit.com/bmabey/pyLDAvis/files/ldavis.v1.0.0.js\", function(){\n",
       "        new LDAvis(\"#\" + \"ldavis_el195402292312903120208380959\", ldavis_el195402292312903120208380959_data);\n",
       "      });\n",
       "    });\n",
       "}else{\n",
       "    // require.js not available: dynamically load d3 & LDAvis\n",
       "    LDAvis_load_lib(\"https://cdnjs.cloudflare.com/ajax/libs/d3/3.5.5/d3.min.js\", function(){\n",
       "         LDAvis_load_lib(\"https://cdn.rawgit.com/bmabey/pyLDAvis/files/ldavis.v1.0.0.js\", function(){\n",
       "                 new LDAvis(\"#\" + \"ldavis_el195402292312903120208380959\", ldavis_el195402292312903120208380959_data);\n",
       "            })\n",
       "         });\n",
       "}\n",
       "</script>"
      ],
      "text/plain": [
       "PreparedData(topic_coordinates=              x         y  topics  cluster       Freq\n",
       "topic                                                \n",
       "2     -0.180814 -0.024407       1        1  46.346609\n",
       "4     -0.142255 -0.061700       2        1  22.805063\n",
       "0     -0.075786  0.209961       3        1  17.733600\n",
       "1      0.085960 -0.182762       4        1   6.734564\n",
       "3      0.312894  0.058908       5        1   6.380164, topic_info=             Term        Freq       Total Category  logprob  loglift\n",
       "111       tertawa   55.000000   55.000000  Default  30.0000  30.0000\n",
       "386          uang  121.000000  121.000000  Default  29.0000  29.0000\n",
       "6          magang   87.000000   87.000000  Default  28.0000  28.0000\n",
       "109          gara   44.000000   44.000000  Default  27.0000  27.0000\n",
       "686          saku  108.000000  108.000000  Default  26.0000  26.0000\n",
       "...           ...         ...         ...      ...      ...      ...\n",
       "1418    korporasi    3.215038    3.569042   Topic5  -4.9221   2.6475\n",
       "1417  kontributor    3.215038    3.569042   Topic5  -4.9221   2.6475\n",
       "1416          ana    3.215038    3.569042   Topic5  -4.9221   2.6475\n",
       "53          didik    3.874424   29.429930   Topic5  -4.7355   0.7244\n",
       "686          saku    3.417547  108.407977   Topic5  -4.8610  -0.7050\n",
       "\n",
       "[228 rows x 6 columns], token_table=      Topic      Freq        Term\n",
       "term                             \n",
       "14        1  0.684539        ajar\n",
       "14        2  0.308043        ajar\n",
       "231       4  0.963664    akademik\n",
       "33        5  0.972022  akreditasi\n",
       "1425      4  0.820690    alangkah\n",
       "...     ...       ...         ...\n",
       "101       2  0.121114       usaha\n",
       "101       3  0.847797       usaha\n",
       "705       3  0.996525      vokasi\n",
       "1001      5  0.978211         web\n",
       "1426      4  0.820690       wujud\n",
       "\n",
       "[211 rows x 3 columns], R=30, lambda_step=0.01, plot_opts={'xlab': 'PC1', 'ylab': 'PC2'}, topic_order=[3, 5, 1, 2, 4])"
      ]
     },
     "execution_count": 13,
     "metadata": {},
     "output_type": "execute_result"
    }
   ],
   "source": [
    "# Visualize the topics\n",
    "pyLDAvis.enable_notebook()\n",
    "vis = pyLDAvis.gensim.prepare(optimal_model, corpus, id2word)\n",
    "vis"
   ]
  }
 ],
 "metadata": {
  "interpreter": {
   "hash": "dc07d24e2f18896857f0b2a651fe84ba40ce7b297e58d8804a308c8039f752a6"
  },
  "kernelspec": {
   "display_name": "Python 3.9.7 ('base')",
   "language": "python",
   "name": "python3"
  },
  "language_info": {
   "codemirror_mode": {
    "name": "ipython",
    "version": 3
   },
   "file_extension": ".py",
   "mimetype": "text/x-python",
   "name": "python",
   "nbconvert_exporter": "python",
   "pygments_lexer": "ipython3",
   "version": "3.9.7"
  },
  "orig_nbformat": 4
 },
 "nbformat": 4,
 "nbformat_minor": 2
}
